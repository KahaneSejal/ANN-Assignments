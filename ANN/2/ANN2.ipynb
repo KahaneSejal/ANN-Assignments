{
  "nbformat": 4,
  "nbformat_minor": 0,
  "metadata": {
    "colab": {
      "provenance": []
    },
    "kernelspec": {
      "name": "python3",
      "display_name": "Python 3"
    },
    "language_info": {
      "name": "python"
    }
  },
  "cells": [
    {
      "cell_type": "code",
      "execution_count": null,
      "metadata": {
        "id": "WkEqNalnrx8B"
      },
      "outputs": [],
      "source": [
        "import numpy as np\n",
        "\n"
      ]
    },
    {
      "cell_type": "code",
      "source": [
        "# Define the activation function (sigmoid)\n",
        "def sigmoid(x):\n",
        "    return 1 / (1 + np.exp(-x))\n",
        "\n"
      ],
      "metadata": {
        "id": "d6hcNU04r7_O"
      },
      "execution_count": null,
      "outputs": []
    },
    {
      "cell_type": "code",
      "source": [
        "# Define the derivative of the activation function\n",
        "def sigmoid_derivative(x):\n",
        "    return x * (1 - x)\n",
        "\n"
      ],
      "metadata": {
        "id": "2d4tIfL0r8Is"
      },
      "execution_count": null,
      "outputs": []
    },
    {
      "cell_type": "code",
      "source": [
        "# Define the XOR function inputs and outputs\n",
        "X = np.array([[0, 0],\n",
        "              [0, 1],\n",
        "              [1, 0],\n",
        "              [1, 1]])\n",
        "\n",
        "y = np.array([[0],\n",
        "              [1],\n",
        "              [1],\n",
        "              [0]])\n",
        "\n"
      ],
      "metadata": {
        "id": "YfuZd2v6r8Lz"
      },
      "execution_count": null,
      "outputs": []
    },
    {
      "cell_type": "code",
      "source": [
        "# Define the neural network architecture\n",
        "input_neurons = 2\n",
        "hidden_neurons = 2\n",
        "output_neurons = 1\n",
        "\n"
      ],
      "metadata": {
        "id": "UMhC7Ecpr8OJ"
      },
      "execution_count": null,
      "outputs": []
    },
    {
      "cell_type": "code",
      "source": [
        "# Initialize the weights randomly\n",
        "hidden_weights = np.random.uniform(size=(input_neurons, hidden_neurons))\n",
        "output_weights = np.random.uniform(size=(hidden_neurons, output_neurons))\n",
        "\n"
      ],
      "metadata": {
        "id": "upbWZu3vr8Qr"
      },
      "execution_count": null,
      "outputs": []
    },
    {
      "cell_type": "code",
      "source": [
        "# Set the number of training iterations\n",
        "epochs = 10000\n",
        "\n"
      ],
      "metadata": {
        "id": "5XMMuLDor8TV"
      },
      "execution_count": null,
      "outputs": []
    },
    {
      "cell_type": "code",
      "source": [
        "# Train the neural network\n",
        "for _ in range(epochs):\n",
        "    # Forward propagation\n",
        "    hidden_layer_input = np.dot(X, hidden_weights)\n",
        "    hidden_layer_output = sigmoid(hidden_layer_input)\n",
        "\n",
        "    output_layer_input = np.dot(hidden_layer_output, output_weights)\n",
        "    output_layer_output = sigmoid(output_layer_input)\n",
        "\n",
        "    "
      ],
      "metadata": {
        "id": "md58HrtXr8WX"
      },
      "execution_count": null,
      "outputs": []
    },
    {
      "cell_type": "code",
      "source": [
        "# Backpropagation\n",
        "output_error = y - output_layer_output\n",
        "output_delta = output_error * sigmoid_derivative(output_layer_output)\n",
        "\n",
        "hidden_error = output_delta.dot(output_weights.T)\n",
        "hidden_delta = hidden_error * sigmoid_derivative(hidden_layer_output)\n",
        "\n",
        "    "
      ],
      "metadata": {
        "id": "RKEPkfXRsOGF"
      },
      "execution_count": null,
      "outputs": []
    },
    {
      "cell_type": "code",
      "source": [
        "# Update weights\n",
        "output_weights += hidden_layer_output.T.dot(output_delta)\n",
        "hidden_weights += X.T.dot(hidden_delta)\n",
        "\n"
      ],
      "metadata": {
        "id": "SC0qqNBusOJD"
      },
      "execution_count": null,
      "outputs": []
    },
    {
      "cell_type": "code",
      "source": [
        "# Test the neural network\n",
        "test_input = np.array([[0, 0],[0,1]])\n",
        "hidden_layer_input = np.dot(test_input, hidden_weights)\n",
        "hidden_layer_output = sigmoid(hidden_layer_input)\n",
        "output_layer_input = np.dot(hidden_layer_output, output_weights)\n",
        "output_layer_output = sigmoid(output_layer_input)\n",
        "\n",
        "print(\"Input:\", test_input)\n",
        "print(\"Predicted Output:\", output_layer_output)"
      ],
      "metadata": {
        "colab": {
          "base_uri": "https://localhost:8080/"
        },
        "id": "jcDF3oi_sOLm",
        "outputId": "c03c4f24-9e6c-4d46-c11f-2bcb38bc5c25"
      },
      "execution_count": null,
      "outputs": [
        {
          "output_type": "stream",
          "name": "stdout",
          "text": [
            "Input: [[0 0]\n",
            " [0 1]]\n",
            "Predicted Output: [[0.54185936]\n",
            " [0.54939098]]\n"
          ]
        }
      ]
    },
    {
      "cell_type": "code",
      "source": [],
      "metadata": {
        "id": "upOQnVIWtGC3"
      },
      "execution_count": null,
      "outputs": []
    }
  ]
}