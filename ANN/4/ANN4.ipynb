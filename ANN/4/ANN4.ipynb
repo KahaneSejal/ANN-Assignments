{
  "nbformat": 4,
  "nbformat_minor": 0,
  "metadata": {
    "colab": {
      "provenance": []
    },
    "kernelspec": {
      "name": "python3",
      "display_name": "Python 3"
    },
    "language_info": {
      "name": "python"
    }
  },
  "cells": [
    {
      "cell_type": "code",
      "execution_count": null,
      "metadata": {
        "colab": {
          "base_uri": "https://localhost:8080/"
        },
        "id": "PEQsV4G9ziBs",
        "outputId": "c697838f-3d22-4c1f-ab88-c068aa9b4eb0"
      },
      "outputs": [
        {
          "output_type": "stream",
          "name": "stdout",
          "text": [
            "Input -> Cluster\n",
            "[0, 0, 0, 1] -> 0\n",
            "[0, 1, 0, 1] -> 0\n",
            "[0, 0, 1, 1] -> 0\n",
            "[1, 0, 0, 0] -> 1\n"
          ]
        }
      ],
      "source": [
        "import numpy as np\n",
        "\n",
        "inputs = [[0, 0, 0, 1], [0, 1, 0, 1], [0, 0, 1, 1], [1, 0, 0, 0]]\n",
        "\n",
        "roh = 0.4\n",
        "m = 3\n",
        "\n",
        "buw = 1/(1+len(inputs[0]))\n",
        "tdw = 1\n",
        "\n",
        "buwarr = np.zeros((len(inputs[0]), m))\n",
        "\n",
        "buwarr[buwarr == 0] = buw\n",
        "\n",
        "tdwarr = np.zeros((m, len(inputs[0])))\n",
        "\n",
        "tdwarr[tdwarr == 0] = tdw\n",
        "\n",
        "index = 0\n",
        "\n",
        "print(\"Input -> Cluster\")\n",
        "while True:\n",
        "    \n",
        "    if index <=len(inputs)-1:\n",
        "        norm_s = sum(inputs[index])\n",
        "        oplayer = []\n",
        "        \n",
        "        oplayer.sort()\n",
        "        for column in buwarr.T:\n",
        "            oplayer.append(sum(inputs[index]*column))\n",
        "    \n",
        "        j = np.where(oplayer == max(oplayer))[0][0]\n",
        "    \n",
        "        x = inputs[index]*tdwarr[j]\n",
        "    \n",
        "        norm_x = sum(x)\n",
        "        \n",
        "        reset = norm_x/norm_s\n",
        "        \n",
        "        if reset > roh:\n",
        "            tdwarr[j] = tdwarr[j] * inputs[index]\n",
        "            buwarr.T[j] = tdwarr[j] / (0.5+sum(tdwarr[j]))\n",
        "            print(inputs[index], \"->\", j)\n",
        "            index += 1\n",
        "        \n",
        "    else:\n",
        "        break"
      ]
    }
  ]
}